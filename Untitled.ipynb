{
 "cells": [
  {
   "cell_type": "code",
   "execution_count": 4,
   "id": "d0b3429e",
   "metadata": {},
   "outputs": [
    {
     "name": "stdout",
     "output_type": "stream",
     "text": [
      "현재시간:2023-03-30 00:00:00\n",
      "------------월 연산------------\n",
      "2023-01-30 00:00:00\n",
      "2023-01-30 00:00:00\n",
      "2023-02-28 00:00:00\n",
      "------------일 연산------------\n",
      "2023-03-01 00:00:00\n",
      "2023-03-01 00:00:00\n",
      "2023-03-29 00:00:00\n",
      "------------연산 여러 개-----------\n",
      "2023-02-27 00:00:00\n"
     ]
    }
   ],
   "source": [
    "from datetime import datetime\n",
    "from dateutil import relativedelta\n",
    "\n",
    "now = datetime(year=2023, month=3, day=30)\n",
    "print('현재시간:'+str(now))\n",
    "\n",
    "print('------------월 연산------------')\n",
    "print(now+relativedelta.relativedelta(month=1))   # 1월로 변경\n",
    "print(now.replace(month=1))                         # 1월로 변경\n",
    "print(now+relativedelta.relativedelta(months=-1)) # 1월로 빼기\n",
    "\n",
    "print('------------일 연산------------')\n",
    "print(now+relativedelta.relativedelta(day=1))   # 1일로 변경\n",
    "print(now.replace(day=1))                         # 1일로 변경\n",
    "print(now+relativedelta.relativedelta(days=-1)) # 1일 빼기\n",
    "\n",
    "print('------------연산 여러 개-----------')\n",
    "print(now + relativedelta.relativedelta(months=-1) + relativedelta.relativedelta(days=-1))  # 1개월, 1일 빼기"
   ]
  },
  {
   "cell_type": "code",
   "execution_count": null,
   "id": "87086788",
   "metadata": {},
   "outputs": [],
   "source": []
  }
 ],
 "metadata": {
  "kernelspec": {
   "display_name": "Python 3 (ipykernel)",
   "language": "python",
   "name": "python3"
  },
  "language_info": {
   "codemirror_mode": {
    "name": "ipython",
    "version": 3
   },
   "file_extension": ".py",
   "mimetype": "text/x-python",
   "name": "python",
   "nbconvert_exporter": "python",
   "pygments_lexer": "ipython3",
   "version": "3.7.9"
  }
 },
 "nbformat": 4,
 "nbformat_minor": 5
}
